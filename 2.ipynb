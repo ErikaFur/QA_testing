{
 "cells": [
  {
   "cell_type": "code",
   "execution_count": 1,
   "metadata": {
    "collapsed": true
   },
   "outputs": [],
   "source": [
    "from selenium import webdriver\n",
    "import time\n",
    "import math\n",
    "def calc(x):\n",
    "  return str(math.log(abs(12*math.sin(int(x)))))"
   ]
  },
  {
   "cell_type": "markdown",
   "source": [
    "---\n",
    "2.1\n",
    "--\n",
    "---"
   ],
   "metadata": {
    "collapsed": false,
    "pycharm": {
     "name": "#%% md\n"
    }
   }
  },
  {
   "cell_type": "code",
   "execution_count": 6,
   "outputs": [
    {
     "name": "stderr",
     "output_type": "stream",
     "text": [
      "<ipython-input-6-921c0f787c12>:18: DeprecationWarning: use driver.switch_to.alert instead\n",
      "  answer = browser.switch_to_alert().text.split()[-1]\n"
     ]
    },
    {
     "name": "stdout",
     "output_type": "stream",
     "text": [
      "28.852493094344016\n"
     ]
    }
   ],
   "source": [
    "link = \"http://suninjuly.github.io/math.html\"\n",
    "try:\n",
    "    browser = webdriver.Chrome()\n",
    "    browser.get(link)\n",
    "\n",
    "    x = browser.find_element_by_id(\"input_value\").text\n",
    "    input = browser.find_element_by_id(\"answer\")\n",
    "    input.send_keys(calc(int(x)))\n",
    "\n",
    "    check1 = browser.find_element_by_css_selector('input[type=\"checkbox\"]')\n",
    "    check1.click()\n",
    "    check1 = browser.find_element_by_css_selector('input[value=\"robots\"]')\n",
    "    check1.click()\n",
    "\n",
    "    button = browser.find_element_by_css_selector('button[type=\"submit\"]')\n",
    "    button.click()\n",
    "\n",
    "    answer = browser.switch_to_alert().text.split()[-1]\n",
    "    print(answer)\n",
    "\n",
    "finally:\n",
    "    time.sleep(3)\n",
    "    browser.quit()"
   ],
   "metadata": {
    "collapsed": false,
    "pycharm": {
     "name": "#%%\n"
    }
   }
  },
  {
   "cell_type": "markdown",
   "source": [
    "get_attribute\n",
    "--"
   ],
   "metadata": {
    "collapsed": false,
    "pycharm": {
     "name": "#%% md\n"
    }
   }
  },
  {
   "cell_type": "code",
   "execution_count": 9,
   "outputs": [
    {
     "name": "stderr",
     "output_type": "stream",
     "text": [
      "<ipython-input-9-2cfaf6d5c886>:19: DeprecationWarning: use driver.switch_to.alert instead\n",
      "  answer = browser.switch_to_alert().text.split()[-1]\n"
     ]
    },
    {
     "name": "stdout",
     "output_type": "stream",
     "text": [
      "28.853443320522427\n"
     ]
    }
   ],
   "source": [
    "link = \"http://suninjuly.github.io/get_attribute.html\"\n",
    "try:\n",
    "    browser = webdriver.Chrome()\n",
    "    browser.get(link)\n",
    "\n",
    "    image = browser.find_element_by_id(\"treasure\")\n",
    "    x = image.get_attribute(\"valuex\")\n",
    "    input = browser.find_element_by_id(\"answer\")\n",
    "    input.send_keys(calc(int(x)))\n",
    "\n",
    "    check1 = browser.find_element_by_css_selector('input[type=\"checkbox\"]')\n",
    "    check1.click()\n",
    "    check1 = browser.find_element_by_css_selector('input[value=\"robots\"]')\n",
    "    check1.click()\n",
    "\n",
    "    button = browser.find_element_by_css_selector('button[type=\"submit\"]')\n",
    "    button.click()\n",
    "\n",
    "    answer = browser.switch_to_alert().text.split()[-1]\n",
    "    print(answer)\n",
    "\n",
    "finally:\n",
    "    time.sleep(3)\n",
    "    browser.quit()"
   ],
   "metadata": {
    "collapsed": false,
    "pycharm": {
     "name": "#%%\n"
    }
   }
  },
  {
   "cell_type": "markdown",
   "source": [
    "---\n",
    "2.2\n",
    "--\n",
    "---"
   ],
   "metadata": {
    "collapsed": false,
    "pycharm": {
     "name": "#%% md\n"
    }
   }
  },
  {
   "cell_type": "code",
   "execution_count": null,
   "outputs": [],
   "source": [],
   "metadata": {
    "collapsed": false,
    "pycharm": {
     "name": "#%%\n"
    }
   }
  }
 ],
 "metadata": {
  "kernelspec": {
   "display_name": "Python 3",
   "language": "python",
   "name": "python3"
  },
  "language_info": {
   "codemirror_mode": {
    "name": "ipython",
    "version": 2
   },
   "file_extension": ".py",
   "mimetype": "text/x-python",
   "name": "python",
   "nbconvert_exporter": "python",
   "pygments_lexer": "ipython2",
   "version": "2.7.6"
  }
 },
 "nbformat": 4,
 "nbformat_minor": 0
}