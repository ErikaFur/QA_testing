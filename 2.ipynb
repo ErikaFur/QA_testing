{
 "cells": [
  {
   "cell_type": "code",
   "execution_count": 1,
   "metadata": {
    "collapsed": true
   },
   "outputs": [],
   "source": [
    "from selenium.webdriver.support.ui import WebDriverWait\n",
    "from selenium.webdriver.support import expected_conditions as EC\n",
    "from selenium import webdriver\n",
    "from selenium.webdriver.common.by import By\n",
    "from selenium.webdriver.common.keys import Keys\n",
    "import time\n",
    "import math\n",
    "from selenium.webdriver.support.ui import Select\n",
    "import os\n",
    "import unittest\n",
    "def calc(x):\n",
    "  return str(math.log(abs(12*math.sin(int(x)))))"
   ]
  },
  {
   "cell_type": "code",
   "source": [
    "link = 'http://selenium1py.pythonanywhere.com/ru/catalogue/category/books/fiction/computers-in-literature_4/'\n",
    "browser = webdriver.Chrome()\n",
    "browser.get(link)\n",
    "\n",
    "btn = browser.find_element_by_css_selector('span.btn')\n",
    "print(btn.get_attribute('class'))\n",
    "browser.quit()"
   ],
   "metadata": {
    "collapsed": false,
    "pycharm": {
     "name": "#%%\n"
    }
   },
   "execution_count": 12,
   "outputs": [
    {
     "name": "stdout",
     "output_type": "stream",
     "text": [
      "btn btn-default btn-block disabled\n"
     ]
    }
   ]
  },
  {
   "cell_type": "markdown",
   "source": [
    "browser.execute_script('window.open(\"http://bings.com\",\"_blank\");')\n",
    "-\n",
    "---\n",
    "2.1\n",
    "--\n",
    "---"
   ],
   "metadata": {
    "collapsed": false,
    "pycharm": {
     "name": "#%% md\n"
    }
   }
  },
  {
   "cell_type": "code",
   "execution_count": 6,
   "outputs": [
    {
     "name": "stderr",
     "output_type": "stream",
     "text": [
      "<ipython-input-6-921c0f787c12>:18: DeprecationWarning: use driver.switch_to.alert instead\n",
      "  answer = browser.switch_to_alert().text.split()[-1]\n"
     ]
    },
    {
     "name": "stdout",
     "output_type": "stream",
     "text": [
      "28.852493094344016\n"
     ]
    }
   ],
   "source": [
    "link = \"http://suninjuly.github.io/math.html\"\n",
    "try:\n",
    "    browser = webdriver.Chrome()\n",
    "    browser.get(link)\n",
    "\n",
    "    x = browser.find_element_by_id(\"input_value\").text\n",
    "    input = browser.find_element_by_id(\"answer\")\n",
    "    input.send_keys(calc(int(x)))\n",
    "\n",
    "    check1 = browser.find_element_by_css_selector('input[type=\"checkbox\"]')\n",
    "    check1.click()\n",
    "    check1 = browser.find_element_by_css_selector('input[value=\"robots\"]')\n",
    "    check1.click()\n",
    "\n",
    "    button = browser.find_element_by_css_selector('button[type=\"submit\"]')\n",
    "    button.click()\n",
    "\n",
    "    answer = browser.switch_to_alert().text.split()[-1]\n",
    "    print(answer)\n",
    "\n",
    "finally:\n",
    "    time.sleep(3)\n",
    "    browser.quit()"
   ],
   "metadata": {
    "collapsed": false,
    "pycharm": {
     "name": "#%%\n"
    }
   }
  },
  {
   "cell_type": "markdown",
   "source": [
    "get_attribute\n",
    "--"
   ],
   "metadata": {
    "collapsed": false,
    "pycharm": {
     "name": "#%% md\n"
    }
   }
  },
  {
   "cell_type": "code",
   "execution_count": 9,
   "outputs": [
    {
     "name": "stderr",
     "output_type": "stream",
     "text": [
      "<ipython-input-9-2cfaf6d5c886>:19: DeprecationWarning: use driver.switch_to.alert instead\n",
      "  answer = browser.switch_to_alert().text.split()[-1]\n"
     ]
    },
    {
     "name": "stdout",
     "output_type": "stream",
     "text": [
      "28.853443320522427\n"
     ]
    }
   ],
   "source": [
    "link = \"http://suninjuly.github.io/get_attribute.html\"\n",
    "try:\n",
    "    browser = webdriver.Chrome()\n",
    "    browser.get(link)\n",
    "\n",
    "    image = browser.find_element_by_id(\"treasure\")\n",
    "    x = image.get_attribute(\"valuex\")\n",
    "    input = browser.find_element_by_id(\"answer\")\n",
    "    input.send_keys(calc(int(x)))\n",
    "\n",
    "    check1 = browser.find_element_by_css_selector('input[type=\"checkbox\"]')\n",
    "    check1.click()\n",
    "    check1 = browser.find_element_by_css_selector('input[value=\"robots\"]')\n",
    "    check1.click()\n",
    "\n",
    "    button = browser.find_element_by_css_selector('button[type=\"submit\"]')\n",
    "    button.click()\n",
    "\n",
    "    answer = browser.switch_to_alert().text.split()[-1]\n",
    "    print(answer)\n",
    "\n",
    "finally:\n",
    "    time.sleep(3)\n",
    "    browser.quit()"
   ],
   "metadata": {
    "collapsed": false,
    "pycharm": {
     "name": "#%%\n"
    }
   }
  },
  {
   "cell_type": "markdown",
   "source": [
    "---\n",
    "2.2\n",
    "--\n",
    "---"
   ],
   "metadata": {
    "collapsed": false,
    "pycharm": {
     "name": "#%% md\n"
    }
   }
  },
  {
   "cell_type": "markdown",
   "source": [
    "Select()\n",
    "--"
   ],
   "metadata": {
    "collapsed": false,
    "pycharm": {
     "name": "#%% md\n"
    }
   }
  },
  {
   "cell_type": "code",
   "execution_count": 3,
   "outputs": [
    {
     "name": "stderr",
     "output_type": "stream",
     "text": [
      "<ipython-input-3-81d8336d44ba>:17: DeprecationWarning: use driver.switch_to.alert instead\n",
      "  answer = browser.switch_to_alert().text.split()[-1]\n"
     ]
    },
    {
     "name": "stdout",
     "output_type": "stream",
     "text": [
      "28.898017093090917\n"
     ]
    }
   ],
   "source": [
    "link = \"http://suninjuly.github.io/selects1.html\"\n",
    "try:\n",
    "    #open Chrome\n",
    "    browser = webdriver.Chrome()\n",
    "    browser.get(link)\n",
    "    #extract x and y\n",
    "    y = browser.find_element_by_id(\"num1\").text\n",
    "    x = browser.find_element_by_id(\"num2\").text\n",
    "    sum = int(x)+int(y)\n",
    "\n",
    "    dropdown = Select(browser.find_element_by_id(\"dropdown\"))\n",
    "    dropdown.select_by_visible_text(str(sum))\n",
    "\n",
    "    button = browser.find_element_by_css_selector('button[type=\"submit\"]')\n",
    "    button.click()\n",
    "\n",
    "    answer = browser.switch_to_alert().text.split()[-1]\n",
    "    print(answer)\n",
    "\n",
    "finally:\n",
    "    time.sleep(3)\n",
    "    browser.quit()"
   ],
   "metadata": {
    "collapsed": false,
    "pycharm": {
     "name": "#%%\n"
    }
   }
  },
  {
   "cell_type": "markdown",
   "source": [
    "scrollIntoView(), execute_script()\n",
    "--"
   ],
   "metadata": {
    "collapsed": false,
    "pycharm": {
     "name": "#%% md\n"
    }
   }
  },
  {
   "cell_type": "code",
   "execution_count": 8,
   "outputs": [
    {
     "name": "stderr",
     "output_type": "stream",
     "text": [
      "<ipython-input-8-ceb38cf7fce9>:19: DeprecationWarning: use driver.switch_to.alert instead\n",
      "  answer = browser.switch_to_alert().text.split()[-1]\n"
     ]
    },
    {
     "name": "stdout",
     "output_type": "stream",
     "text": [
      "28.89937869074178\n"
     ]
    }
   ],
   "source": [
    "link = \"http://suninjuly.github.io/execute_script.html\"\n",
    "try:\n",
    "    browser = webdriver.Chrome()\n",
    "    browser.get(link)\n",
    "\n",
    "    x = browser.find_element_by_id(\"input_value\").text\n",
    "    input = browser.find_element_by_id(\"answer\")\n",
    "    input.send_keys(calc(int(x)))\n",
    "\n",
    "    button = browser.find_element_by_css_selector('button[type=\"submit\"]')\n",
    "    browser.execute_script(\"return arguments[0].scrollIntoView(true);\",button)\n",
    "    check1 = browser.find_element_by_css_selector('input[type=\"checkbox\"]')\n",
    "    check1.click()\n",
    "    check1 = browser.find_element_by_css_selector('input[value=\"robots\"]')\n",
    "    check1.click()\n",
    "\n",
    "    button.click()\n",
    "\n",
    "    answer = browser.switch_to_alert().text.split()[-1]\n",
    "    print(answer)\n",
    "\n",
    "finally:\n",
    "    time.sleep(3)\n",
    "    browser.quit()"
   ],
   "metadata": {
    "collapsed": false,
    "pycharm": {
     "name": "#%%\n"
    }
   }
  },
  {
   "cell_type": "code",
   "execution_count": 4,
   "outputs": [
    {
     "name": "stderr",
     "output_type": "stream",
     "text": [
      "<ipython-input-4-4f1d547d4cb6>:21: DeprecationWarning: use driver.switch_to.alert instead\n",
      "  answer = browser.switch_to_alert().text.split()[-1]\n"
     ]
    },
    {
     "name": "stdout",
     "output_type": "stream",
     "text": [
      "28.90031632161766\n"
     ]
    }
   ],
   "source": [
    "link = \"http://suninjuly.github.io/file_input.html\"\n",
    "try:\n",
    "    browser = webdriver.Chrome()\n",
    "    browser.get(link)\n",
    "\n",
    "    f_name = browser.find_element_by_name(\"firstname\")\n",
    "    f_name.send_keys(\"aboba\")\n",
    "    l_name = browser.find_element_by_name(\"lastname\")\n",
    "    l_name.send_keys(\"aboba\")\n",
    "    input = browser.find_element_by_name(\"email\")\n",
    "    input.send_keys(\"aboba@mail.com\")\n",
    "\n",
    "    button = browser.find_element_by_css_selector('button[type=\"submit\"]')\n",
    "    browser.execute_script(\"return arguments[0].scrollIntoView(true);\",button)\n",
    "\n",
    "    file_upload = browser.find_element_by_id(\"file\")\n",
    "    file_upload.send_keys(os.path.abspath(\"sample.txt\"))\n",
    "\n",
    "    button.click()\n",
    "\n",
    "    answer = browser.switch_to_alert().text.split()[-1]\n",
    "    print(answer)\n",
    "\n",
    "finally:\n",
    "    time.sleep(3)\n",
    "    browser.quit()"
   ],
   "metadata": {
    "collapsed": false,
    "pycharm": {
     "name": "#%%\n"
    }
   }
  },
  {
   "cell_type": "markdown",
   "source": [
    "---\n",
    "2.3\n",
    "--\n",
    "---"
   ],
   "metadata": {
    "collapsed": false,
    "pycharm": {
     "name": "#%% md\n"
    }
   }
  },
  {
   "cell_type": "raw",
   "source": [
    "confirm = browser.switch_to.alert\n",
    "confirm.send_keys(\"My answer\")\n",
    "confirm.accept() / confirm.dismiss()\n"
   ],
   "metadata": {
    "collapsed": false
   }
  },
  {
   "cell_type": "code",
   "execution_count": 6,
   "outputs": [
    {
     "name": "stderr",
     "output_type": "stream",
     "text": [
      "<ipython-input-6-49800d8c4159>:8: DeprecationWarning: use driver.switch_to.alert instead\n",
      "  alert = browser.switch_to_alert()\n",
      "<ipython-input-6-49800d8c4159>:18: DeprecationWarning: use driver.switch_to.alert instead\n",
      "  answer = browser.switch_to_alert().text.split()[-1]\n"
     ]
    },
    {
     "name": "stdout",
     "output_type": "stream",
     "text": [
      "28.94287656895992\n"
     ]
    }
   ],
   "source": [
    "link = \"http://suninjuly.github.io/alert_accept.html\"\n",
    "try:\n",
    "    browser = webdriver.Chrome()\n",
    "    browser.get(link)\n",
    "\n",
    "    button = browser.find_element_by_css_selector('button[type=\"submit\"]')\n",
    "    button.click()\n",
    "    alert = browser.switch_to_alert()\n",
    "    alert.accept()\n",
    "\n",
    "    x = browser.find_element_by_id(\"input_value\").text\n",
    "    answer = browser.find_element_by_id(\"answer\")\n",
    "    answer.send_keys(calc(int(x)))\n",
    "\n",
    "    button = browser.find_element_by_css_selector('button[type=\"submit\"]')\n",
    "    button.click()\n",
    "\n",
    "    answer = browser.switch_to_alert().text.split()[-1]\n",
    "    print(answer)\n",
    "\n",
    "finally:\n",
    "    time.sleep(3)\n",
    "    browser.quit()"
   ],
   "metadata": {
    "collapsed": false,
    "pycharm": {
     "name": "#%%\n"
    }
   }
  },
  {
   "cell_type": "raw",
   "source": [
    "switch_to.window()\n",
    "window_handles[number]"
   ],
   "metadata": {
    "collapsed": false,
    "pycharm": {
     "name": "#%% raw\n"
    }
   }
  },
  {
   "cell_type": "code",
   "execution_count": 9,
   "outputs": [
    {
     "name": "stdout",
     "output_type": "stream",
     "text": [
      "28.94374469474241\n"
     ]
    }
   ],
   "source": [
    "link = \"http://suninjuly.github.io/redirect_accept.html\"\n",
    "try:\n",
    "    browser = webdriver.Chrome()\n",
    "    browser.get(link)\n",
    "\n",
    "    button = browser.find_element_by_css_selector('button[type=\"submit\"]')\n",
    "    button.click()\n",
    "\n",
    "    browser.switch_to.window(browser.window_handles[1])\n",
    "\n",
    "    x = browser.find_element_by_id(\"input_value\").text\n",
    "    answer = browser.find_element_by_id(\"answer\")\n",
    "    answer.send_keys(calc(int(x)))\n",
    "\n",
    "    button = browser.find_element_by_css_selector('button[type=\"submit\"]')\n",
    "    button.click()\n",
    "\n",
    "    answer = browser.switch_to.alert.text.split()[-1]\n",
    "    print(answer)\n",
    "\n",
    "finally:\n",
    "    time.sleep(3)\n",
    "    browser.quit()"
   ],
   "metadata": {
    "collapsed": false,
    "pycharm": {
     "name": "#%%\n"
    }
   }
  },
  {
   "cell_type": "markdown",
   "source": [
    "---\n",
    "2.4\n",
    "--\n",
    "---"
   ],
   "metadata": {
    "collapsed": false,
    "pycharm": {
     "name": "#%% md\n"
    }
   }
  },
  {
   "cell_type": "raw",
   "source": [
    "browser.implicitly_wait(seconds) - just wait 5 seconds\n",
    "button = WebDriverWait(browser, 5).until(\n",
    "        EC.element_to_be_clickable((By.ID, \"verify\"))) - wait until this or 5 seconds\n",
    "title_is\n",
    "title_contains\n",
    "presence_of_element_located\n",
    "visibility_of_element_located\n",
    "visibility_of\n",
    "presence_of_all_elements_located\n",
    "text_to_be_present_in_element\n",
    "text_to_be_present_in_element_value\n",
    "frame_to_be_available_and_switch_to_it\n",
    "invisibility_of_element_located\n",
    "element_to_be_clickable\n",
    "staleness_of\n",
    "element_to_be_selected\n",
    "element_located_to_be_selected\n",
    "element_selection_state_to_be\n",
    "element_located_selection_state_to_be\n",
    "alert_is_present"
   ],
   "metadata": {
    "collapsed": false,
    "pycharm": {
     "name": "#%% raw\n"
    }
   }
  },
  {
   "cell_type": "code",
   "execution_count": 15,
   "outputs": [
    {
     "name": "stdout",
     "output_type": "stream",
     "text": [
      "28.98702769388005\n"
     ]
    }
   ],
   "source": [
    "link = \"http://suninjuly.github.io/explicit_wait2.html\"\n",
    "try:\n",
    "    browser = webdriver.Chrome()\n",
    "    browser.get(link)\n",
    "\n",
    "    WebDriverWait(browser, 10).until(\n",
    "        EC.text_to_be_present_in_element((By.ID, \"price\"), \"$100\")\n",
    "    )\n",
    "    button = browser.find_element_by_css_selector('button[id=\"book\"]')\n",
    "    button.click()\n",
    "\n",
    "    x = browser.find_element_by_id(\"input_value\").text\n",
    "    answer = browser.find_element_by_id(\"answer\")\n",
    "    answer.send_keys(calc(int(x)))\n",
    "\n",
    "    button = browser.find_element_by_css_selector('button[type=\"submit\"]')\n",
    "    button.click()\n",
    "\n",
    "    answer = browser.switch_to.alert.text.split()[-1]\n",
    "    print(answer)\n",
    "\n",
    "finally:\n",
    "    time.sleep(3)\n",
    "    browser.quit()"
   ],
   "metadata": {
    "collapsed": false,
    "pycharm": {
     "name": "#%%\n"
    }
   }
  },
  {
   "cell_type": "markdown",
   "source": [
    "---\n",
    "3.2\n",
    "--\n",
    "---"
   ],
   "metadata": {
    "collapsed": false,
    "pycharm": {
     "name": "#%% md\n"
    }
   }
  },
  {
   "cell_type": "code",
   "execution_count": 22,
   "outputs": [],
   "source": [
    "link = \"http://suninjuly.github.io/registration1.html\"\n",
    "data = {\"first\":\"aboba\", \"second\":\"Dirova\", \"third\":\"aboba@mail.com\"}\n",
    "browser = webdriver.Chrome()\n",
    "browser.get(link)\n",
    "\n",
    "required = browser.find_elements_by_css_selector('input[required]')\n",
    "for i in required:\n",
    "    a = i.get_attribute(\"class\").split()[-1]\n",
    "    send_data = data[a]\n",
    "    assert send_data.__len__() != 0, f\"{a} input should not be empty\"\n",
    "    if a == \"third\":\n",
    "        assert\"@\" in send_data, f\"Mail should be correct, but got {send_data}\"\n",
    "    i.send_keys(data[a])\n",
    "\n",
    "button = browser.find_element_by_css_selector('button[type=\"submit\"]')\n",
    "button.click()\n",
    "\n",
    "answer = browser.find_element_by_class_name(\"container\").text\n",
    "browser.quit()\n",
    "assert answer == \"Congratulations! You have successfully registered!\", \"Something was wrong :(\""
   ],
   "metadata": {
    "collapsed": false,
    "pycharm": {
     "name": "#%%\n"
    }
   }
  },
  {
   "cell_type": "code",
   "execution_count": 20,
   "outputs": [
    {
     "name": "stderr",
     "output_type": "stream",
     "text": [
      "E\n",
      "======================================================================\n",
      "ERROR: C:\\Users\\KAMUz\\AppData\\Roaming\\jupyter\\runtime\\kernel-c0429b95-c29b-4b85-b523-e80f2f6ee08a (unittest.loader._FailedTest)\n",
      "----------------------------------------------------------------------\n",
      "AttributeError: module '__main__' has no attribute 'C:\\Users\\KAMUz\\AppData\\Roaming\\jupyter\\runtime\\kernel-c0429b95-c29b-4b85-b523-e80f2f6ee08a'\n",
      "\n",
      "----------------------------------------------------------------------\n",
      "Ran 1 test in 0.002s\n",
      "\n",
      "FAILED (errors=1)\n",
      "c:\\users\\kamuz\\appdata\\local\\programs\\python\\python38-32\\lib\\site-packages\\IPython\\core\\interactiveshell.py:3425: UserWarning: To exit: use 'exit', 'quit', or Ctrl-D.\n",
      "  warn(\"To exit: use 'exit', 'quit', or Ctrl-D.\", stacklevel=1)\n"
     ]
    },
    {
     "ename": "SystemExit",
     "evalue": "True",
     "output_type": "error",
     "traceback": [
      "An exception has occurred, use %tb to see the full traceback.\n",
      "\u001B[1;31mSystemExit\u001B[0m\u001B[1;31m:\u001B[0m True\n"
     ]
    }
   ],
   "source": [
    "class TestWeb(unittest.TestCase):\n",
    "       def test_web1(self):\n",
    "        link = \"http://suninjuly.github.io/registration1.html\"\n",
    "        data = {\"first\":\"aboba\", \"second\":\"Dirova\", \"third\":\"aboba@mail.com\"}\n",
    "        browser = webdriver.Chrome()\n",
    "        browser.get(link)\n",
    "\n",
    "        required = browser.find_elements_by_css_selector('input[required]')\n",
    "        for i in required:\n",
    "            a = i.get_attribute(\"class\").split()[-1]\n",
    "            send_data = data[a]\n",
    "            self.assertNotEqual(send_data.__len__(), 0, f\"{a} input should not be empty\")\n",
    "            if a == \"third\":\n",
    "                self.assertIn(\"@\", send_data, f\"Mail should be correct, but got {send_data}\")\n",
    "            i.send_keys(data[a])\n",
    "\n",
    "        button = browser.find_element_by_css_selector('button[type=\"submit\"]')\n",
    "        button.click()\n",
    "\n",
    "        answer = browser.find_element_by_class_name(\"container\").text\n",
    "        browser.quit()\n",
    "        self.assertEqual(answer, \"Congratulations! You have successfully registered!\", \"Something was wrong :(\")\n",
    "\n",
    "    def test_web2(self):\n",
    "        link = \"http://suninjuly.github.io/registration2.html\"\n",
    "        data = {\"first\":\"aboba\", \"second\":\"Dirova\", \"third\":\"aboba@mail.com\"}\n",
    "        browser = webdriver.Chrome()\n",
    "        browser.get(link)\n",
    "\n",
    "        required = browser.find_elements_by_css_selector('input[required]')\n",
    "        for i in required:\n",
    "            a = i.get_attribute(\"class\").split()[-1]\n",
    "            send_data = data[a]\n",
    "            self.assertNotEqual(send_data.__len__(), 0, f\"{a} input should not be empty\")\n",
    "            if a == \"third\":\n",
    "                self.assertIn(\"@\", send_data, f\"Mail should be correct, but got {send_data}\")\n",
    "            i.send_keys(data[a])\n",
    "\n",
    "        button = browser.find_element_by_css_selector('button[type=\"submit\"]')\n",
    "        button.click()\n",
    "\n",
    "        answer = browser.find_element_by_class_name(\"container\").text\n",
    "        browser.quit()\n",
    "        self.assertEqual(answer, \"Congratulations! You have successfully registered!\", \"Something was wrong :(\")\n",
    "unittest.main()\n",
    "#works only in main lol"
   ],
   "metadata": {
    "collapsed": false,
    "pycharm": {
     "name": "#%%\n"
    }
   }
  },
  {
   "cell_type": "code",
   "execution_count": 20,
   "outputs": [],
   "source": [
    "link = \"https://stepik.org/lesson/236895/step/1\"\n",
    "try:\n",
    "    browser = webdriver.Chrome()\n",
    "    browser.get(link)\n",
    "    time.sleep(2)\n",
    "    input_row = browser.find_element_by_css_selector('textarea.textarea')\n",
    "    input_row.send_keys(str(math.log(int(time.time()))))\n",
    "    button = browser.find_element_by_css_selector('button[class=\"submit-submission\"]')\n",
    "    button.click()\n",
    "    time.sleep(2)\n",
    "    answer = browser.find_element_by_css_selector('pre.smart-hints__hint').text\n",
    "\n",
    "    assert answer == \"Correct!\", print(f\"Got answer {answer}, but should be 'Correct!'\")\n",
    "finally:\n",
    "    time.sleep(2)\n",
    "    browser.quit()"
   ],
   "metadata": {
    "collapsed": false,
    "pycharm": {
     "name": "#%%\n"
    }
   }
  },
  {
   "cell_type": "code",
   "execution_count": null,
   "outputs": [],
   "source": [],
   "metadata": {
    "collapsed": false,
    "pycharm": {
     "name": "#%%\n"
    }
   }
  }
 ],
 "metadata": {
  "kernelspec": {
   "display_name": "Python 3",
   "language": "python",
   "name": "python3"
  },
  "language_info": {
   "codemirror_mode": {
    "name": "ipython",
    "version": 2
   },
   "file_extension": ".py",
   "mimetype": "text/x-python",
   "name": "python",
   "nbconvert_exporter": "python",
   "pygments_lexer": "ipython2",
   "version": "2.7.6"
  }
 },
 "nbformat": 4,
 "nbformat_minor": 0
}