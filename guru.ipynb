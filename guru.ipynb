{
 "cells": [
  {
   "cell_type": "code",
   "execution_count": 2,
   "metadata": {
    "collapsed": true
   },
   "outputs": [],
   "source": [
    "from selenium import webdriver\n",
    "import time"
   ]
  },
  {
   "cell_type": "code",
   "execution_count": 6,
   "outputs": [
    {
     "name": "stderr",
     "output_type": "stream",
     "text": [
      "<ipython-input-6-70839c8eb5a2>:10: DeprecationWarning: use driver.switch_to.window instead\n",
      "  browser.switch_to_window(browser.window_handles[1])\n",
      "<ipython-input-6-70839c8eb5a2>:21: DeprecationWarning: use driver.switch_to.window instead\n",
      "  browser.switch_to_window(browser.window_handles[0])\n"
     ]
    }
   ],
   "source": [
    "try:\n",
    "    #open Chrome and go to the link\n",
    "    link = \"http://www.demo.guru99.com/V4/\"\n",
    "    browser = webdriver.Chrome()\n",
    "    browser.get(link)\n",
    "    new_link = browser.find_element_by_xpath('//*[contains(text(),\"Visit\")]/*')\n",
    "    new_link = new_link.get_attribute(\"href\")\n",
    "    #open new tab and switch to it\n",
    "    browser.execute_script(\"window.open('');\")\n",
    "    browser.switch_to_window(browser.window_handles[1])\n",
    "    browser.get(new_link)\n",
    "    #find email row and input your email + click button\n",
    "    email = browser.find_element_by_css_selector('input[name=\"emailid\"]')\n",
    "    email.send_keys(\"aboba@mail.ru\")\n",
    "    button = browser.find_element_by_css_selector('input[value=\"Submit\"]')\n",
    "    button.click()\n",
    "    #copy UID and password\n",
    "    UID = browser.find_element_by_xpath('//*[contains(text(),\"User\")]/../*[2]').text\n",
    "    password = browser.find_element_by_xpath('//*[contains(text(),\"ssword\")]/../*[2]').text\n",
    "    #go back to 1'st tab and input data + click button\n",
    "    browser.switch_to_window(browser.window_handles[0])\n",
    "    UID_input = browser.find_element_by_css_selector('input[name=\"uid\"]')\n",
    "    password_input = browser.find_element_by_css_selector('input[name=\"password\"]')\n",
    "    UID_input.send_keys(UID)\n",
    "    password_input.send_keys(password)\n",
    "    button = browser.find_element_by_css_selector('input[value=\"LOGIN\"]')\n",
    "    button.click()\n",
    "\n",
    "finally:\n",
    "    time.sleep(20)\n",
    "    browser.quit()"
   ],
   "metadata": {
    "collapsed": false,
    "pycharm": {
     "name": "#%%\n"
    }
   }
  }
 ],
 "metadata": {
  "kernelspec": {
   "display_name": "Python 3",
   "language": "python",
   "name": "python3"
  },
  "language_info": {
   "codemirror_mode": {
    "name": "ipython",
    "version": 2
   },
   "file_extension": ".py",
   "mimetype": "text/x-python",
   "name": "python",
   "nbconvert_exporter": "python",
   "pygments_lexer": "ipython2",
   "version": "2.7.6"
  }
 },
 "nbformat": 4,
 "nbformat_minor": 0
}